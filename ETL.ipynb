{
  "nbformat": 4,
  "nbformat_minor": 0,
  "metadata": {
    "colab": {
      "provenance": [],
      "gpuType": "T4",
      "authorship_tag": "ABX9TyPlPgP6hnhnm1N1CaqVifcA",
      "include_colab_link": true
    },
    "kernelspec": {
      "name": "python3",
      "display_name": "Python 3"
    },
    "language_info": {
      "name": "python"
    },
    "accelerator": "GPU"
  },
  "cells": [
    {
      "cell_type": "markdown",
      "metadata": {
        "id": "view-in-github",
        "colab_type": "text"
      },
      "source": [
        "<a href=\"https://colab.research.google.com/github/faranbutt/Extract_Transform_Load_Ex/blob/main/ETL.ipynb\" target=\"_parent\"><img src=\"https://colab.research.google.com/assets/colab-badge.svg\" alt=\"Open In Colab\"/></a>"
      ]
    },
    {
      "cell_type": "markdown",
      "source": [
        "**Exercise 1:**\n",
        "*Perform ETL Job on zip data on*\n",
        "[Dirty Data](https://cf-courses-data.s3.us.cloud-object-storage.appdomain.cloud/IBMDeveloperSkillsNetwork-PY0221EN-SkillsNetwork/labs/module%206/Lab%20-%20Extract%20Transform%20Load/data/source.zip)"
      ],
      "metadata": {
        "id": "RuYm1Lzh06hH"
      }
    },
    {
      "cell_type": "code",
      "execution_count": 1,
      "metadata": {
        "colab": {
          "base_uri": "https://localhost:8080/"
        },
        "id": "2N52pqY-hOHu",
        "outputId": "8841149d-e441-452c-ca61-8e2a28ac23dc"
      },
      "outputs": [
        {
          "output_type": "stream",
          "name": "stdout",
          "text": [
            "--2023-10-10 06:59:07--  https://cf-courses-data.s3.us.cloud-object-storage.appdomain.cloud/IBMDeveloperSkillsNetwork-PY0221EN-SkillsNetwork/labs/module%206/Lab%20-%20Extract%20Transform%20Load/data/source.zip\n",
            "Resolving cf-courses-data.s3.us.cloud-object-storage.appdomain.cloud (cf-courses-data.s3.us.cloud-object-storage.appdomain.cloud)... 198.23.119.245\n",
            "Connecting to cf-courses-data.s3.us.cloud-object-storage.appdomain.cloud (cf-courses-data.s3.us.cloud-object-storage.appdomain.cloud)|198.23.119.245|:443... connected.\n",
            "HTTP request sent, awaiting response... 200 OK\n",
            "Length: 2707 (2.6K) [application/zip]\n",
            "Saving to: ‘source.zip’\n",
            "\n",
            "\rsource.zip            0%[                    ]       0  --.-KB/s               \rsource.zip          100%[===================>]   2.64K  --.-KB/s    in 0s      \n",
            "\n",
            "2023-10-10 06:59:07 (872 MB/s) - ‘source.zip’ saved [2707/2707]\n",
            "\n"
          ]
        }
      ],
      "source": [
        "!wget https://cf-courses-data.s3.us.cloud-object-storage.appdomain.cloud/IBMDeveloperSkillsNetwork-PY0221EN-SkillsNetwork/labs/module%206/Lab%20-%20Extract%20Transform%20Load/data/source.zip"
      ]
    },
    {
      "cell_type": "code",
      "source": [
        "!unzip /content/source.zip"
      ],
      "metadata": {
        "colab": {
          "base_uri": "https://localhost:8080/"
        },
        "id": "-XnYliG-hUXL",
        "outputId": "50d761de-1bdb-40f2-b316-d525db2b338a"
      },
      "execution_count": 2,
      "outputs": [
        {
          "output_type": "stream",
          "name": "stdout",
          "text": [
            "Archive:  /content/source.zip\n",
            "  inflating: source3.json            \n",
            "  inflating: source1.csv             \n",
            "  inflating: source2.csv             \n",
            "  inflating: source3.csv             \n",
            "  inflating: source1.json            \n",
            "  inflating: source2.json            \n",
            "  inflating: source1.xml             \n",
            "  inflating: source2.xml             \n",
            "  inflating: source3.xml             \n"
          ]
        }
      ]
    },
    {
      "cell_type": "code",
      "source": [
        "import pandas as pd\n",
        "import glob\n",
        "from datetime import datetime\n",
        "import xml.etree.ElementTree as ET"
      ],
      "metadata": {
        "id": "zqe06jqxhdgt"
      },
      "execution_count": 123,
      "outputs": []
    },
    {
      "cell_type": "code",
      "source": [
        "log_file = 'log_data.txt'\n",
        "target_file = 'output.csv'"
      ],
      "metadata": {
        "id": "8Vr2th6diFe0"
      },
      "execution_count": 124,
      "outputs": []
    },
    {
      "cell_type": "code",
      "source": [
        "def log_data(message):\n",
        "  timestamp_format = \"%Y-%h-%d-%H:%M:%S\"\n",
        "  now = datetime.now()\n",
        "  timestamp = now.strftime(timestamp_format)\n",
        "  with open(log_file,'a') as log:\n",
        "    log.write(f'{timestamp}, {message} \\n')"
      ],
      "metadata": {
        "id": "AFxpYnBFhvfX"
      },
      "execution_count": 125,
      "outputs": []
    },
    {
      "cell_type": "code",
      "source": [
        "def extract_data_from_csv(csvfile):\n",
        "  df = pd.read_csv(csvfile)\n",
        "  return df\n",
        "def extract_data_from_json(jsonfile):\n",
        "  df = pd.read_json(jsonfile,lines=True)\n",
        "  return df\n"
      ],
      "metadata": {
        "id": "gYCM5LYVizmy"
      },
      "execution_count": 126,
      "outputs": []
    },
    {
      "cell_type": "code",
      "source": [
        "def extract_data_from_xml(xmlfile):\n",
        "  df = pd.DataFrame(columns=['name','height','weight'])\n",
        "  tree = ET.parse('/content/source1.xml')\n",
        "  root = tree.getroot()\n",
        "  for person in root:\n",
        "    name = person.find('name').text\n",
        "    height = float(person.find('height').text)\n",
        "    weight = float(person.find('weight').text)\n",
        "    df = pd.concat([df,pd.DataFrame([{\"name\":name,\"height\":height,\"weight\":weight}])],ignore_index=True)\n",
        "  return df"
      ],
      "metadata": {
        "id": "c2NhPgLwkX03"
      },
      "execution_count": 127,
      "outputs": []
    },
    {
      "cell_type": "code",
      "source": [
        "def extract():\n",
        "  df = pd.DataFrame(columns=['name','height','weight'])\n",
        "  #csv data extraction\n",
        "  for csv_file in glob.glob('*.csv'):\n",
        "    csv_data = extract_data_from_csv(csv_file)\n",
        "    df = pd.concat([df,pd.DataFrame(csv_data)],ignore_index=True)\n",
        "\n",
        "    #json data extraction\n",
        "  for json_file in glob.glob('*.json'):\n",
        "    json_data = extract_data_from_json(json_file)\n",
        "    df = pd.concat([df,json_data],ignore_index=True)\n",
        "\n",
        "    #xml data extraction\n",
        "  for xml_file in glob.glob('*.xml'):\n",
        "    xml_data = extract_data_from_xml(xml_file)\n",
        "    df = pd.concat([df,xml_data],ignore_index=True)\n",
        "  return df"
      ],
      "metadata": {
        "id": "KZnH4EvdbKOB"
      },
      "execution_count": 128,
      "outputs": []
    },
    {
      "cell_type": "code",
      "source": [
        "def transform(data):\n",
        "  data['height'] = round(data.height*0.0254,2)\n",
        "  data['weight'] = round(data.weight * 0.45359237,2)\n",
        "  return data"
      ],
      "metadata": {
        "id": "rPUSdaSpfPCy"
      },
      "execution_count": 129,
      "outputs": []
    },
    {
      "cell_type": "code",
      "source": [
        "def load_data(transformed_data,target_file):\n",
        "  transformed_data.to_csv(target_file)"
      ],
      "metadata": {
        "id": "TmUBQQf-utze"
      },
      "execution_count": 130,
      "outputs": []
    },
    {
      "cell_type": "code",
      "source": [
        "log_data('ETL Job Started')\n",
        "log_data('Extract Phase Started')\n",
        "extracted_data = extract()\n",
        "print(extracted_data)\n",
        "log_data('Extract Phase Ended')"
      ],
      "metadata": {
        "colab": {
          "base_uri": "https://localhost:8080/"
        },
        "id": "hl3o7t4vwZrf",
        "outputId": "e7d16972-e22a-4c1c-a13e-0555545ebca9"
      },
      "execution_count": 131,
      "outputs": [
        {
          "output_type": "stream",
          "name": "stdout",
          "text": [
            "     name  height  weight\n",
            "0    alex   65.78  112.99\n",
            "1    ajay   71.52  136.49\n",
            "2   alice   69.40  153.03\n",
            "3    ravi   68.22  142.34\n",
            "4     joe   67.79  144.30\n",
            "5    alex   65.78  112.99\n",
            "6    ajay   71.52  136.49\n",
            "7   alice   69.40  153.03\n",
            "8    ravi   68.22  142.34\n",
            "9     joe   67.79  144.30\n",
            "10   alex   65.78  112.99\n",
            "11   ajay   71.52  136.49\n",
            "12  alice   69.40  153.03\n",
            "13   ravi   68.22  142.34\n",
            "14    joe   67.79  144.30\n",
            "15   jack   68.70  123.30\n",
            "16    tom   69.80  141.49\n",
            "17  tracy   70.01  136.46\n",
            "18   john   67.90  112.37\n",
            "19   jack   68.70  123.30\n",
            "20    tom   69.80  141.49\n",
            "21  tracy   70.01  136.46\n",
            "22   john   67.90  112.37\n",
            "23   jack   68.70  123.30\n",
            "24    tom   69.80  141.49\n",
            "25  tracy   70.01  136.46\n",
            "26   john   67.90  112.37\n",
            "27  simon   67.90  112.37\n",
            "28  jacob   66.78  120.67\n",
            "29  cindy   66.49  127.45\n",
            "30   ivan   67.62  114.14\n",
            "31  simon   67.90  112.37\n",
            "32  jacob   66.78  120.67\n",
            "33  cindy   66.49  127.45\n",
            "34   ivan   67.62  114.14\n",
            "35  simon   67.90  112.37\n",
            "36  jacob   66.78  120.67\n",
            "37  cindy   66.49  127.45\n",
            "38   ivan   67.62  114.14\n"
          ]
        }
      ]
    },
    {
      "cell_type": "code",
      "source": [
        "log_data(\"Transform Phase Started\")\n",
        "transformed_data = transform(extracted_data)\n",
        "print(\"Tranformed Data\")\n",
        "print(transformed_data)\n",
        "log_data(\"Tranform Phase Ended\")"
      ],
      "metadata": {
        "colab": {
          "base_uri": "https://localhost:8080/"
        },
        "id": "l8B1GYwfyjuZ",
        "outputId": "a853123f-b112-48ae-f94e-d7a06412cf86"
      },
      "execution_count": 132,
      "outputs": [
        {
          "output_type": "stream",
          "name": "stdout",
          "text": [
            "Tranformed Data\n",
            "     name  height  weight\n",
            "0    alex    1.67   51.25\n",
            "1    ajay    1.82   61.91\n",
            "2   alice    1.76   69.41\n",
            "3    ravi    1.73   64.56\n",
            "4     joe    1.72   65.45\n",
            "5    alex    1.67   51.25\n",
            "6    ajay    1.82   61.91\n",
            "7   alice    1.76   69.41\n",
            "8    ravi    1.73   64.56\n",
            "9     joe    1.72   65.45\n",
            "10   alex    1.67   51.25\n",
            "11   ajay    1.82   61.91\n",
            "12  alice    1.76   69.41\n",
            "13   ravi    1.73   64.56\n",
            "14    joe    1.72   65.45\n",
            "15   jack    1.74   55.93\n",
            "16    tom    1.77   64.18\n",
            "17  tracy    1.78   61.90\n",
            "18   john    1.72   50.97\n",
            "19   jack    1.74   55.93\n",
            "20    tom    1.77   64.18\n",
            "21  tracy    1.78   61.90\n",
            "22   john    1.72   50.97\n",
            "23   jack    1.74   55.93\n",
            "24    tom    1.77   64.18\n",
            "25  tracy    1.78   61.90\n",
            "26   john    1.72   50.97\n",
            "27  simon    1.72   50.97\n",
            "28  jacob    1.70   54.73\n",
            "29  cindy    1.69   57.81\n",
            "30   ivan    1.72   51.77\n",
            "31  simon    1.72   50.97\n",
            "32  jacob    1.70   54.73\n",
            "33  cindy    1.69   57.81\n",
            "34   ivan    1.72   51.77\n",
            "35  simon    1.72   50.97\n",
            "36  jacob    1.70   54.73\n",
            "37  cindy    1.69   57.81\n",
            "38   ivan    1.72   51.77\n"
          ]
        }
      ]
    },
    {
      "cell_type": "code",
      "source": [
        "log_data('Load Phase Started')\n",
        "load_data(transformed_data,target_file)\n",
        "log_data('Load Phase Ended')\n",
        "log_data(\"ETL Job Ended\")"
      ],
      "metadata": {
        "id": "p35xIwjIy1gG"
      },
      "execution_count": 133,
      "outputs": []
    },
    {
      "cell_type": "code",
      "source": [
        "with open('/content/log_data.txt',\"r\") as log_fil:\n",
        "  data = log_fil.read()\n",
        "  print(data)\n"
      ],
      "metadata": {
        "id": "r691p9930WYU"
      },
      "execution_count": null,
      "outputs": []
    },
    {
      "cell_type": "markdown",
      "source": [
        "**Exercise 2:**\n",
        "*Develop ETL pipeline for zip data on*\n",
        "[Dirty Data 2](https://cf-courses-data.s3.us.cloud-object-storage.appdomain.cloud/IBMDeveloperSkillsNetwork-PY0221EN-SkillsNetwork/labs/module%206/Lab%20-%20Extract%20Transform%20Load/data/datasource.zip)"
      ],
      "metadata": {
        "id": "Q4uaJOFg2riT"
      }
    },
    {
      "cell_type": "code",
      "source": [
        "!wget https://cf-courses-data.s3.us.cloud-object-storage.appdomain.cloud/IBMDeveloperSkillsNetwork-PY0221EN-SkillsNetwork/labs/module%206/Lab%20-%20Extract%20Transform%20Load/data/datasource.zip"
      ],
      "metadata": {
        "id": "hMT3Rk2-266A"
      },
      "execution_count": null,
      "outputs": []
    },
    {
      "cell_type": "code",
      "source": [
        "!unzip /content/datasource.zip"
      ],
      "metadata": {
        "id": "tBY18kLm3NdB"
      },
      "execution_count": null,
      "outputs": []
    },
    {
      "cell_type": "code",
      "source": [
        "target_file_2 = 'output2.csv'\n",
        "log_file_2 = 'log_file2.txt'"
      ],
      "metadata": {
        "id": "JdUzX_363TmC"
      },
      "execution_count": 319,
      "outputs": []
    },
    {
      "cell_type": "code",
      "source": [
        "def extract_data_from_csv_2(csv_file):\n",
        "  df = pd.read_csv(csv_file)\n",
        "  return df\n",
        "def extract_data_from_json_2(json_file):\n",
        "  df = pd.read_json(json_file,lines=True)\n",
        "  return df"
      ],
      "metadata": {
        "id": "vB16ZeKn4dy0"
      },
      "execution_count": 320,
      "outputs": []
    },
    {
      "cell_type": "code",
      "source": [
        "def extract_data_from_xml_2(xml_file):\n",
        "  df = pd.DataFrame(columns=['car_model','year_of_manufacture','price','fuel'])\n",
        "  tree = ET.parse(xml_file)\n",
        "  root = tree.getroot()\n",
        "  for car in root:\n",
        "    car_model = car.find(\"car_model\").text\n",
        "    year_of_manufacture = car.find(\"year_of_manufacture\").text\n",
        "    price = float(car.find(\"price\").text)\n",
        "    fuel = car.find('fuel').text\n",
        "    df = pd.concat([df,pd.DataFrame([{\"car_model\":car_model,\"year_of_manufacture\":year_of_manufacture,\"price\":price,\"fuel\":fuel}])],ignore_index=True)\n",
        "  return df\n"
      ],
      "metadata": {
        "id": "yj0KJyz54-iO"
      },
      "execution_count": 321,
      "outputs": []
    },
    {
      "cell_type": "code",
      "source": [
        "def extract_2():\n",
        "  df = pd.DataFrame(columns=['car_model','year_of_manufacture','price','fuel'])\n",
        "\n",
        "  #Extract CSV data\n",
        "  for csv_file in glob.glob('*.csv'):\n",
        "    csv_data = extract_data_from_csv_2(csv_file)\n",
        "    df = pd.concat([df,csv_data],ignore_index=True)\n",
        "\n",
        "  #Extract JSON data\n",
        "  for json_file in glob.glob('*.json'):\n",
        "    json_data = extract_data_from_json_2(json_file)\n",
        "    df = pd.concat([df,json_data],ignore_index=True)\n",
        "\n",
        "  #Extact XML data\n",
        "  for xml_file in glob.glob('*.xml'):\n",
        "    xml_data = extract_data_from_xml_2(xml_file)\n",
        "    df = pd.concat([df,xml_data],ignore_index=True)\n",
        "\n",
        "  return(df)"
      ],
      "metadata": {
        "id": "RKRD5_xd5DhT"
      },
      "execution_count": 322,
      "outputs": []
    },
    {
      "cell_type": "code",
      "source": [
        "def transform2(data):\n",
        "  data['price'] = round(data.price,2)\n",
        "  return data"
      ],
      "metadata": {
        "id": "72f9-z3SB_9C"
      },
      "execution_count": 323,
      "outputs": []
    },
    {
      "cell_type": "code",
      "source": [
        "def load_data_2(transformed_data,target_file_2):\n",
        "  transformed_data.to_csv(target_file_2)"
      ],
      "metadata": {
        "id": "GzIsksi1ZKXk"
      },
      "execution_count": 324,
      "outputs": []
    },
    {
      "cell_type": "code",
      "source": [
        "def log_data_2(message):\n",
        "  timestamp_format = '%Y-%h-%d-%H:%M:%S'\n",
        "  now = datetime.now()\n",
        "  timestamp = now.strftime(timestamp_format)\n",
        "  with open(log_file_2,'a') as f:\n",
        "    f.write(f\"{timestamp} - {message} \\n\")"
      ],
      "metadata": {
        "id": "pgi3Yw52ZxzU"
      },
      "execution_count": 325,
      "outputs": []
    },
    {
      "cell_type": "code",
      "source": [
        "log_data_2(\"ETL JOB STARTED\")\n",
        "log_data_2(\"Extract Phase Started\")\n",
        "extracted_data_2 = extract_2()\n",
        "print(extracted_data_2)\n",
        "log_data_2(\"Extract Phase Ended\")"
      ],
      "metadata": {
        "colab": {
          "base_uri": "https://localhost:8080/"
        },
        "id": "jDJ1plEEPPCP",
        "outputId": "9dd187f5-4467-4f67-fde9-d941f3cab1a7"
      },
      "execution_count": 326,
      "outputs": [
        {
          "output_type": "stream",
          "name": "stdout",
          "text": [
            "        car_model year_of_manufacture         price    fuel\n",
            "0            ritz                2014   5000.000000  Petrol\n",
            "1             sx4                2013   7089.552239  Diesel\n",
            "2            ciaz                2017  10820.895522  Petrol\n",
            "3         wagon r                2011   4253.731343  Petrol\n",
            "4           swift                2014   6865.671642  Diesel\n",
            "..            ...                 ...           ...     ...\n",
            "85        etios g                2015   5895.522388  Petrol\n",
            "86  corolla altis                2013   8208.955224  Petrol\n",
            "87        corolla                2004   2238.805970  Petrol\n",
            "88  corolla altis                2010   7835.820896  Petrol\n",
            "89       fortuner                2012  21641.791045  Diesel\n",
            "\n",
            "[90 rows x 4 columns]\n"
          ]
        }
      ]
    },
    {
      "cell_type": "code",
      "source": [
        "log_data_2(\"Transform Phase Started\")\n",
        "transformed_data_2 = transform2(extracted_data_2)\n",
        "print(\"Transformed Data\")\n",
        "print(transformed_data_2)\n",
        "log_data_2(\"Transform Phase Ended\")"
      ],
      "metadata": {
        "colab": {
          "base_uri": "https://localhost:8080/"
        },
        "id": "JiT2DZJcYcIq",
        "outputId": "c53dde51-2e69-4415-e377-5caed65903eb"
      },
      "execution_count": 327,
      "outputs": [
        {
          "output_type": "stream",
          "name": "stdout",
          "text": [
            "Transformed Data\n",
            "        car_model year_of_manufacture     price    fuel\n",
            "0            ritz                2014   5000.00  Petrol\n",
            "1             sx4                2013   7089.55  Diesel\n",
            "2            ciaz                2017  10820.90  Petrol\n",
            "3         wagon r                2011   4253.73  Petrol\n",
            "4           swift                2014   6865.67  Diesel\n",
            "..            ...                 ...       ...     ...\n",
            "85        etios g                2015   5895.52  Petrol\n",
            "86  corolla altis                2013   8208.96  Petrol\n",
            "87        corolla                2004   2238.81  Petrol\n",
            "88  corolla altis                2010   7835.82  Petrol\n",
            "89       fortuner                2012  21641.79  Diesel\n",
            "\n",
            "[90 rows x 4 columns]\n"
          ]
        }
      ]
    },
    {
      "cell_type": "code",
      "source": [
        "log_data_2(\"Load Phase Started\")\n",
        "load_data_2(transformed_data_2,target_file_2)\n",
        "log_data_2(\"Load Phase Ended\")\n",
        "log_data_2(\"ETL JOB ENDED\")"
      ],
      "metadata": {
        "id": "KXvU9AfweP6n"
      },
      "execution_count": 328,
      "outputs": []
    },
    {
      "cell_type": "code",
      "source": [
        "with open('/content/log_file2.txt',\"r\") as log_fil:\n",
        "  data = log_fil.read()\n",
        "  print(data)"
      ],
      "metadata": {
        "colab": {
          "base_uri": "https://localhost:8080/"
        },
        "id": "Py5rQ-egewwZ",
        "outputId": "87636132-8db3-46f5-f589-188b91cb9be9"
      },
      "execution_count": 329,
      "outputs": [
        {
          "output_type": "stream",
          "name": "stdout",
          "text": [
            "2023-Oct-10-12:10:46 - ETL JOB STARTED \n",
            "2023-Oct-10-12:10:46 - Extract Phase Started \n",
            "2023-Oct-10-12:10:46 - Extract Phase Ended \n",
            "2023-Oct-10-12:10:47 - Transform Phase Started \n",
            "2023-Oct-10-12:10:47 - Transform Phase Ended \n",
            "2023-Oct-10-12:10:48 - Load Phase Started \n",
            "2023-Oct-10-12:10:48 - Load Phase Ended \n",
            "2023-Oct-10-12:10:48 - ETL JOB ENDED \n",
            "\n"
          ]
        }
      ]
    },
    {
      "cell_type": "code",
      "source": [],
      "metadata": {
        "id": "qmMKXE77fD53"
      },
      "execution_count": null,
      "outputs": []
    }
  ]
}